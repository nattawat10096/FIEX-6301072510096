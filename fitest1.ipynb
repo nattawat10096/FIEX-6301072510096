{
 "cells": [
  {
   "cell_type": "code",
   "execution_count": 45,
   "metadata": {},
   "outputs": [],
   "source": [
    "import cv2 as cv\n",
    "import numpy as np"
   ]
  },
  {
   "cell_type": "code",
   "execution_count": 64,
   "metadata": {},
   "outputs": [
    {
     "ename": "ValueError",
     "evalue": "too many values to unpack (expected 2)",
     "output_type": "error",
     "traceback": [
      "\u001b[1;31m---------------------------------------------------------------------------\u001b[0m",
      "\u001b[1;31mValueError\u001b[0m                                Traceback (most recent call last)",
      "Cell \u001b[1;32mIn [64], line 5\u001b[0m\n\u001b[0;32m      2\u001b[0m template \u001b[39m=\u001b[39m cv\u001b[39m.\u001b[39mimread(\u001b[39m'\u001b[39m\u001b[39mTemplate-2.png\u001b[39m\u001b[39m'\u001b[39m)\n\u001b[0;32m      3\u001b[0m \u001b[39m#w = 18\u001b[39;00m\n\u001b[0;32m      4\u001b[0m \u001b[39m#h = 24\u001b[39;00m\n\u001b[1;32m----> 5\u001b[0m w, h \u001b[39m=\u001b[39m template\u001b[39m.\u001b[39mshape[::\u001b[39m1\u001b[39m]\n\u001b[0;32m      7\u001b[0m \u001b[39mwhile\u001b[39;00m (cap\u001b[39m.\u001b[39misOpened()) :\n\u001b[0;32m      8\u001b[0m     ret, frame \u001b[39m=\u001b[39m cap\u001b[39m.\u001b[39mread()\n",
      "\u001b[1;31mValueError\u001b[0m: too many values to unpack (expected 2)"
     ]
    }
   ],
   "source": [
    "cap = cv.VideoCapture(\"left_output-1.avi\")\n",
    "template = cv.imread('Template-2.png')\n",
    "#w = 18\n",
    "#h = 24\n",
    "w, h = template.shape[::1]\n",
    "\n",
    "while (cap.isOpened()) :\n",
    "    ret, frame = cap.read()\n",
    "    if ret == True :\n",
    "        spec = cv.matchTemplate(frame,template,cv.TM_CCOEFF_NORMED)\n",
    "        min_val, max_val, min_loc, max_loc = cv.minMaxLoc(spec)\n",
    "        top_l = max_loc\n",
    "        bot_r = (top_l[0] + w, top_l[1] + h)\n",
    "        cv.rectangle(frame,top_l, bot_r, (0, 255, 0), 2)\n",
    "        cv.imshow(\"frame\",frame)\n",
    "\n",
    "        if cv.waitKey(1) & 0xFF == ord(\"q\"):\n",
    "            break\n",
    "    else :\n",
    "        break\n",
    "\n",
    "cap.release()\n",
    "cv.destroyAllWindows()\n"
   ]
  }
 ],
 "metadata": {
  "kernelspec": {
   "display_name": "Python 3.10.8 64-bit (microsoft store)",
   "language": "python",
   "name": "python3"
  },
  "language_info": {
   "codemirror_mode": {
    "name": "ipython",
    "version": 3
   },
   "file_extension": ".py",
   "mimetype": "text/x-python",
   "name": "python",
   "nbconvert_exporter": "python",
   "pygments_lexer": "ipython3",
   "version": "3.10.8"
  },
  "orig_nbformat": 4,
  "vscode": {
   "interpreter": {
    "hash": "1011073bb788e4ed9c4f7f58f11b25ae36936378c2cf357948784ac9e3587397"
   }
  }
 },
 "nbformat": 4,
 "nbformat_minor": 2
}
